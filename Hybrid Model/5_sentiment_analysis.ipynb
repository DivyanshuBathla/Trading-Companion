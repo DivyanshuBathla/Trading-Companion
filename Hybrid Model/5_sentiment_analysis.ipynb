{
 "cells": [
  {
   "cell_type": "code",
   "execution_count": 39,
   "id": "3b3b789f",
   "metadata": {},
   "outputs": [],
   "source": [
    "from urllib.request import urlopen, Request\n",
    "import pandas as pd\n",
    "import numpy as np\n",
    "import pandas_datareader as pdr\n",
    "import matplotlib.pyplot as plt\n",
    "from bs4 import BeautifulSoup\n",
    "import nltk\n",
    "from nltk.sentiment.vader import SentimentIntensityAnalyzer\n",
    "import pandas_datareader as pdr\n",
    "import datetime as dt\n",
    "from datetime import datetime"
   ]
  },
  {
   "cell_type": "code",
   "execution_count": 40,
   "id": "225cd105",
   "metadata": {},
   "outputs": [],
   "source": [
    "df=pd.read_csv('C:\\\\Users\\\\as\\\\Desktop\\\\major_project\\\\Hybrid Model\\\\Data files\\\\temp_dataset.csv')"
   ]
  },
  {
   "cell_type": "code",
   "execution_count": 41,
   "id": "b8fddbf5",
   "metadata": {},
   "outputs": [
    {
     "data": {
      "text/plain": [
       "(149, 14)"
      ]
     },
     "execution_count": 41,
     "metadata": {},
     "output_type": "execute_result"
    }
   ],
   "source": [
    "df.shape"
   ]
  },
  {
   "cell_type": "code",
   "execution_count": 42,
   "id": "5acbfa05",
   "metadata": {},
   "outputs": [],
   "source": [
    "vader=SentimentIntensityAnalyzer()\n",
    "f=lambda title:vader.polarity_scores(title)['neg']\n",
    "df['negative_score']=df['HEADLINE'].apply(f)"
   ]
  },
  {
   "cell_type": "code",
   "execution_count": 43,
   "id": "3e7511e7",
   "metadata": {},
   "outputs": [],
   "source": [
    "vader=SentimentIntensityAnalyzer()\n",
    "f=lambda title:vader.polarity_scores(title)['pos']\n",
    "df['positive_score']=df['HEADLINE'].apply(f)"
   ]
  },
  {
   "cell_type": "code",
   "execution_count": 44,
   "id": "af8c95e0",
   "metadata": {},
   "outputs": [],
   "source": [
    "vader=SentimentIntensityAnalyzer()\n",
    "f=lambda title:vader.polarity_scores(title)['neu']\n",
    "df['neutral_score']=df['HEADLINE'].apply(f)"
   ]
  },
  {
   "cell_type": "code",
   "execution_count": 45,
   "id": "6004b770",
   "metadata": {},
   "outputs": [],
   "source": [
    "vader=SentimentIntensityAnalyzer()\n",
    "f=lambda title:vader.polarity_scores(title)['compound']\n",
    "df['compound_score']=df['HEADLINE'].apply(f)"
   ]
  },
  {
   "cell_type": "code",
   "execution_count": 46,
   "id": "7af2cbf7",
   "metadata": {},
   "outputs": [],
   "source": [
    "historical=pd.read_csv('C:\\\\Users\\\\as\\\\Desktop\\\\major_project\\\\Hybrid Model\\\\Data files\\\\historical_data.csv')"
   ]
  },
  {
   "cell_type": "code",
   "execution_count": 47,
   "id": "e819087b",
   "metadata": {},
   "outputs": [
    {
     "data": {
      "text/plain": [
       "(149, 14)"
      ]
     },
     "execution_count": 47,
     "metadata": {},
     "output_type": "execute_result"
    }
   ],
   "source": [
    "historical.shape"
   ]
  },
  {
   "cell_type": "code",
   "execution_count": 48,
   "id": "b2e1efa5",
   "metadata": {},
   "outputs": [],
   "source": [
    "final = pd.concat([df, historical], join = 'outer', axis = 1)"
   ]
  },
  {
   "cell_type": "code",
   "execution_count": 49,
   "id": "b089b3da",
   "metadata": {},
   "outputs": [],
   "source": [
    "final.to_csv('C:\\\\Users\\\\as\\\\Desktop\\\\major_project\\\\Hybrid Model\\\\Data files\\\\final_dataset.csv')"
   ]
  },
  {
   "cell_type": "code",
   "execution_count": 50,
   "id": "a1aec795",
   "metadata": {},
   "outputs": [
    {
     "data": {
      "text/plain": [
       "(149, 32)"
      ]
     },
     "execution_count": 50,
     "metadata": {},
     "output_type": "execute_result"
    }
   ],
   "source": [
    "final.shape"
   ]
  },
  {
   "cell_type": "code",
   "execution_count": null,
   "id": "c17ad54d",
   "metadata": {},
   "outputs": [],
   "source": []
  }
 ],
 "metadata": {
  "kernelspec": {
   "display_name": "Python 3",
   "language": "python",
   "name": "python3"
  },
  "language_info": {
   "codemirror_mode": {
    "name": "ipython",
    "version": 3
   },
   "file_extension": ".py",
   "mimetype": "text/x-python",
   "name": "python",
   "nbconvert_exporter": "python",
   "pygments_lexer": "ipython3",
   "version": "3.9.7"
  }
 },
 "nbformat": 4,
 "nbformat_minor": 5
}
