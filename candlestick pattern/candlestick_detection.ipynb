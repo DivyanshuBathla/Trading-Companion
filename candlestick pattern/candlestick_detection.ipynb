{
 "cells": [
  {
   "cell_type": "code",
   "execution_count": 1,
   "metadata": {
    "id": "G4APJaVBbArK"
   },
   "outputs": [],
   "source": [
    "import pandas as pd\n",
    "import numpy as np\n",
    "import pandas_datareader as pdr"
   ]
  },
  {
   "cell_type": "code",
   "execution_count": 2,
   "metadata": {
    "id": "WbPvm-MUcDGS"
   },
   "outputs": [],
   "source": [
    "import yfinance as yfin\n",
    "from pandas_datareader import data as pdr"
   ]
  },
  {
   "cell_type": "code",
   "execution_count": null,
   "metadata": {
    "id": "409AuSQpcEIq"
   },
   "outputs": [],
   "source": []
  },
  {
   "cell_type": "code",
   "execution_count": 3,
   "metadata": {
    "id": "FBzk-n77bArP"
   },
   "outputs": [],
   "source": [
    "symbol=pd.read_csv('EQUITY_L (3).csv')"
   ]
  },
  {
   "cell_type": "code",
   "execution_count": 4,
   "metadata": {
    "colab": {
     "base_uri": "https://localhost:8080/",
     "height": 241
    },
    "id": "foQNjJZjbArR",
    "outputId": "7a2263fc-e7f7-44a6-ed08-944fb99d88b9"
   },
   "outputs": [
    {
     "data": {
      "text/html": [
       "<div>\n",
       "<style scoped>\n",
       "    .dataframe tbody tr th:only-of-type {\n",
       "        vertical-align: middle;\n",
       "    }\n",
       "\n",
       "    .dataframe tbody tr th {\n",
       "        vertical-align: top;\n",
       "    }\n",
       "\n",
       "    .dataframe thead th {\n",
       "        text-align: right;\n",
       "    }\n",
       "</style>\n",
       "<table border=\"1\" class=\"dataframe\">\n",
       "  <thead>\n",
       "    <tr style=\"text-align: right;\">\n",
       "      <th></th>\n",
       "      <th>SYMBOL</th>\n",
       "      <th>NAME OF COMPANY</th>\n",
       "      <th>SERIES</th>\n",
       "      <th>DATE OF LISTING</th>\n",
       "      <th>PAID UP VALUE</th>\n",
       "      <th>MARKET LOT</th>\n",
       "      <th>ISIN NUMBER</th>\n",
       "      <th>FACE VALUE</th>\n",
       "    </tr>\n",
       "  </thead>\n",
       "  <tbody>\n",
       "    <tr>\n",
       "      <th>0</th>\n",
       "      <td>20MICRONS</td>\n",
       "      <td>20 Microns Limited</td>\n",
       "      <td>EQ</td>\n",
       "      <td>06-OCT-2008</td>\n",
       "      <td>5</td>\n",
       "      <td>1</td>\n",
       "      <td>INE144J01027</td>\n",
       "      <td>5</td>\n",
       "    </tr>\n",
       "    <tr>\n",
       "      <th>1</th>\n",
       "      <td>21STCENMGM</td>\n",
       "      <td>21st Century Management Services Limited</td>\n",
       "      <td>EQ</td>\n",
       "      <td>03-MAY-1995</td>\n",
       "      <td>10</td>\n",
       "      <td>1</td>\n",
       "      <td>INE253B01015</td>\n",
       "      <td>10</td>\n",
       "    </tr>\n",
       "    <tr>\n",
       "      <th>2</th>\n",
       "      <td>3IINFOLTD</td>\n",
       "      <td>3i Infotech Limited</td>\n",
       "      <td>EQ</td>\n",
       "      <td>22-OCT-2021</td>\n",
       "      <td>10</td>\n",
       "      <td>1</td>\n",
       "      <td>INE748C01038</td>\n",
       "      <td>10</td>\n",
       "    </tr>\n",
       "    <tr>\n",
       "      <th>3</th>\n",
       "      <td>3MINDIA</td>\n",
       "      <td>3M India Limited</td>\n",
       "      <td>EQ</td>\n",
       "      <td>13-AUG-2004</td>\n",
       "      <td>10</td>\n",
       "      <td>1</td>\n",
       "      <td>INE470A01017</td>\n",
       "      <td>10</td>\n",
       "    </tr>\n",
       "    <tr>\n",
       "      <th>4</th>\n",
       "      <td>3PLAND</td>\n",
       "      <td>3P Land Holdings Limited</td>\n",
       "      <td>EQ</td>\n",
       "      <td>19-JUL-1995</td>\n",
       "      <td>2</td>\n",
       "      <td>1</td>\n",
       "      <td>INE105C01023</td>\n",
       "      <td>2</td>\n",
       "    </tr>\n",
       "  </tbody>\n",
       "</table>\n",
       "</div>"
      ],
      "text/plain": [
       "       SYMBOL                           NAME OF COMPANY  SERIES  \\\n",
       "0   20MICRONS                        20 Microns Limited      EQ   \n",
       "1  21STCENMGM  21st Century Management Services Limited      EQ   \n",
       "2   3IINFOLTD                       3i Infotech Limited      EQ   \n",
       "3     3MINDIA                          3M India Limited      EQ   \n",
       "4      3PLAND                  3P Land Holdings Limited      EQ   \n",
       "\n",
       "   DATE OF LISTING   PAID UP VALUE   MARKET LOT   ISIN NUMBER   FACE VALUE  \n",
       "0      06-OCT-2008               5            1  INE144J01027            5  \n",
       "1      03-MAY-1995              10            1  INE253B01015           10  \n",
       "2      22-OCT-2021              10            1  INE748C01038           10  \n",
       "3      13-AUG-2004              10            1  INE470A01017           10  \n",
       "4      19-JUL-1995               2            1  INE105C01023            2  "
      ]
     },
     "execution_count": 4,
     "metadata": {},
     "output_type": "execute_result"
    }
   ],
   "source": [
    "symbol.head()"
   ]
  },
  {
   "cell_type": "code",
   "execution_count": 5,
   "metadata": {
    "id": "ANvu6XKcbArS"
   },
   "outputs": [],
   "source": [
    "symbol=np.array(symbol)"
   ]
  },
  {
   "cell_type": "code",
   "execution_count": 6,
   "metadata": {
    "colab": {
     "base_uri": "https://localhost:8080/"
    },
    "id": "I8qTfCcjbArS",
    "outputId": "2574947d-a69f-4815-8d90-48a54a8aa308"
   },
   "outputs": [
    {
     "data": {
      "text/plain": [
       "str"
      ]
     },
     "execution_count": 6,
     "metadata": {},
     "output_type": "execute_result"
    }
   ],
   "source": [
    "type(symbol[0][0])"
   ]
  },
  {
   "cell_type": "code",
   "execution_count": 7,
   "metadata": {
    "id": "yxFcGm4GbArT"
   },
   "outputs": [],
   "source": [
    "string=symbol[0][0]"
   ]
  },
  {
   "cell_type": "code",
   "execution_count": 8,
   "metadata": {
    "colab": {
     "base_uri": "https://localhost:8080/",
     "height": 35
    },
    "id": "X_VPGwKubArT",
    "outputId": "1cb0ace2-40e0-4dee-ecb1-9ccdd03becc2"
   },
   "outputs": [
    {
     "data": {
      "text/plain": [
       "'20MICRONS'"
      ]
     },
     "execution_count": 8,
     "metadata": {},
     "output_type": "execute_result"
    }
   ],
   "source": [
    "string"
   ]
  },
  {
   "cell_type": "code",
   "execution_count": 9,
   "metadata": {
    "id": "OXlv9uPXbArU"
   },
   "outputs": [],
   "source": [
    "import datetime as dt\n",
    "x=dt.date.today()\n",
    "x=x-dt.timedelta(1)\n",
    "y=x-dt.timedelta(120)"
   ]
  },
  {
   "cell_type": "code",
   "execution_count": null,
   "metadata": {
    "id": "M-9SBUCRcWfH"
   },
   "outputs": [],
   "source": []
  },
  {
   "cell_type": "code",
   "execution_count": 10,
   "metadata": {
    "id": "ue5EtQdscRna"
   },
   "outputs": [],
   "source": [
    "# len(df)"
   ]
  },
  {
   "cell_type": "code",
   "execution_count": 11,
   "metadata": {
    "colab": {
     "base_uri": "https://localhost:8080/"
    },
    "id": "qZ0nmYPhbArV",
    "outputId": "780bd412-ac16-48fa-97dd-a8448a725727"
   },
   "outputs": [
    {
     "data": {
      "text/plain": [
       "datetime.date(2024, 5, 30)"
      ]
     },
     "execution_count": 11,
     "metadata": {},
     "output_type": "execute_result"
    }
   ],
   "source": [
    "x"
   ]
  },
  {
   "cell_type": "code",
   "execution_count": 12,
   "metadata": {
    "colab": {
     "base_uri": "https://localhost:8080/"
    },
    "id": "7_MO3c0EbArV",
    "outputId": "655c70e2-b2c1-4dd2-d815-445f4e871985"
   },
   "outputs": [
    {
     "data": {
      "text/plain": [
       "1828"
      ]
     },
     "execution_count": 12,
     "metadata": {},
     "output_type": "execute_result"
    }
   ],
   "source": [
    "(symbol.shape)[0]"
   ]
  },
  {
   "cell_type": "code",
   "execution_count": 13,
   "metadata": {
    "id": "K783-RWxbArW"
   },
   "outputs": [],
   "source": [
    "def reverse_hammer(data,i):\n",
    "\n",
    "    open_close=(data[i][3]-data[i][4])/data[i][3]*100\n",
    "    open_close=abs(open_close)\n",
    "\n",
    "    low=(data[i][2]-data[i][3])/data[i][2]*100\n",
    "    low=abs(low)\n",
    "    high=(data[i][1]-data[i][4])/data[i][1]*100\n",
    "    high=abs(high)\n",
    "    # print(open_close,\" \",high,\" \",low)\n",
    "    if(open_close*3<high and low*3<high):\n",
    "        #print(data[i][0])\n",
    "        return(1)\n",
    "    return(-1)\n"
   ]
  },
  {
   "cell_type": "code",
   "execution_count": 14,
   "metadata": {
    "id": "2shIEnMAbArW"
   },
   "outputs": [],
   "source": [
    "def hammer(data,i):\n",
    "\n",
    "    open_close=(data[i][3]-data[i][4])/data[i][3]*100\n",
    "    open_close=abs(open_close)\n",
    "\n",
    "    low=(data[i][2]-data[i][3])/data[i][2]*100\n",
    "    low=abs(low)\n",
    "    high=(data[i][1]-data[i][4])/data[i][1]*100\n",
    "    high=abs(high)\n",
    "    # print(open_close,\" \",high,\" \",low)\n",
    "    if(open_close*3<low and high*3<low):\n",
    "        #print(data[i][0])\n",
    "        return(1)\n",
    "    return(-1)"
   ]
  },
  {
   "cell_type": "code",
   "execution_count": 15,
   "metadata": {
    "id": "6Gc-anrxbArX"
   },
   "outputs": [],
   "source": [
    "def harebozo(data,i):\n",
    "\n",
    "    open_close=(data[i][3]-data[i][4])/data[i][3]*100\n",
    "    open_close=abs(open_close)\n",
    "\n",
    "    low=(data[i][2]-data[i][3])/data[i][2]*100\n",
    "    low=abs(low)\n",
    "    high=(data[i][1]-data[i][4])/data[i][1]*100\n",
    "    high=abs(high)\n",
    "    # print(open_close,\" \",high,\" \",low)\n",
    "    high_low=(data[i][1]-data[i][2])/data[i][1]*100\n",
    "    high_low=abs(high_low)\n",
    "    if((open_close>high*4 and open_close>low*4) or (open_close>high*5 and data[i][3]>data[i][1]) or(open_close>low*5 and data[i][4]>data[i][2]) ):\n",
    "\n",
    "        #print(data[i][0])\n",
    "        return(1)\n",
    "    return(-1)\n"
   ]
  },
  {
   "cell_type": "code",
   "execution_count": 16,
   "metadata": {
    "id": "FjXtPPFIbArX"
   },
   "outputs": [],
   "source": [
    "def spin_top(data,i):\n",
    "\n",
    "    open_close=(data[i][3]-data[i][4])/data[i][3]*100\n",
    "    open_close=abs(open_close)\n",
    "\n",
    "    low=(data[i][2]-data[i][3])/data[i][2]*100\n",
    "    low=abs(low)\n",
    "    high=(data[i][1]-data[i][4])/data[i][1]*100\n",
    "    high=abs(high)\n",
    "    # print(open_close,\" \",high,\" \",low)\n",
    "\n",
    "    if(low>5*open_close and high>5*open_close and abs(high-low)<0.5):\n",
    "        #print(data[i][0])\n",
    "        return(1)\n",
    "    return(-1)\n"
   ]
  },
  {
   "cell_type": "code",
   "execution_count": 17,
   "metadata": {
    "id": "pdrZFBOpijFw"
   },
   "outputs": [],
   "source": [
    "def twezzer_bottom(data,i):\n",
    "    diff_low=(data[i-1][3]-data[i][3])\n",
    "    per_chan=diff_low/data[i-1][3]*100\n",
    "    per_chan=abs(per_chan)\n",
    "    if(per_chan<1 and func(data,i)<0):\n",
    "      return(1)\n",
    "    else:\n",
    "      return(-1)\n",
    "\n"
   ]
  },
  {
   "cell_type": "code",
   "execution_count": 18,
   "metadata": {
    "id": "F6Tyv11rbArX"
   },
   "outputs": [],
   "source": [
    "def func(data,curr):\n",
    "    temp=curr\n",
    "    dec=0\n",
    "    inc=0\n",
    "    while(curr>temp-5):\n",
    "        if(data[curr][4]<data[curr-1][4]):\n",
    "            dec=dec+1\n",
    "        else:\n",
    "            inc=inc+1\n",
    "        curr=curr-1\n",
    "    return(dec-inc)\n"
   ]
  },
  {
   "cell_type": "code",
   "execution_count": 19,
   "metadata": {
    "id": "XhVDFbdxbArX"
   },
   "outputs": [],
   "source": [
    "def check_pattern(data,i):\n",
    "\n",
    "      if(hammer(data,i)==1 or reverse_hammer(data,i)==1 or spin_top(data,i)==1 or harebozo(data,i)==1):\n",
    "      # if(twezzer_bottom(data,i)==1):\n",
    "         if(func(data,i)>0):\n",
    "             return(1)\n",
    "         else:\n",
    "             return(-1)\n",
    "      return(0)\n"
   ]
  },
  {
   "cell_type": "code",
   "execution_count": 20,
   "metadata": {
    "id": "Rp_T50nTbArY"
   },
   "outputs": [],
   "source": [
    "# def get_symbol(string,x,y):\n",
    "#     try:\n",
    "#         df=pdr.get_data_yahoo(string,start=x,end=y)\n",
    "#         return df\n",
    "#     except:\n",
    "#         try:\n",
    "#             df=pdr.get_data_yahoo(string+'.BO',start=x,end=y)\n",
    "#             return df\n",
    "#         except:\n",
    "#             try:\n",
    "#                 df=pdr.get_data_yahoo(string+'.NS',start=x,end=y)\n",
    "#                 return df\n",
    "#             except:\n",
    "#                 df=pdr.get_data_yahoo('RELIANCE.NS',start=x,end=y)\n"
   ]
  },
  {
   "cell_type": "code",
   "execution_count": 21,
   "metadata": {
    "id": "6ViF3LMRd41W"
   },
   "outputs": [],
   "source": [
    "def get_symbol(string,x,y):\n",
    "    yfin.pdr_override()\n",
    "    df1=pdr.get_data_yahoo(string,start=x,end=y)\n",
    "    yfin.pdr_override()\n",
    "    df2=pdr.get_data_yahoo(string+'.NS',start=x,end=y)\n",
    "    yfin.pdr_override()\n",
    "    df3=pdr.get_data_yahoo(string+'.BO',start=x,end=y)\n",
    "    if(len(df1)!=0):\n",
    "      df=df1\n",
    "    elif len(df2)!=0:\n",
    "      df=df2\n",
    "    elif len(df3)!=0:\n",
    "      df=df3\n",
    "    return df"
   ]
  },
  {
   "cell_type": "code",
   "execution_count": 22,
   "metadata": {
    "id": "jXjFXK6DbArY"
   },
   "outputs": [],
   "source": [
    "def piv_high(data,temp):\n",
    "    count=0\n",
    "    sum=0\n",
    "    for i in range(temp-1,temp):\n",
    "        sum=sum+data[i][1]\n",
    "        count=count+1\n",
    "    avg=sum/count\n",
    "    return avg\n"
   ]
  },
  {
   "cell_type": "code",
   "execution_count": 23,
   "metadata": {
    "id": "wpOztXQvbArY"
   },
   "outputs": [],
   "source": [
    "def piv_close(data,temp):\n",
    "    count=0\n",
    "    sum=0\n",
    "    for i in range(temp-1,temp):\n",
    "        sum=sum+data[i][4]\n",
    "        count=count+1\n",
    "    avg=sum/count\n",
    "    return avg\n"
   ]
  },
  {
   "cell_type": "code",
   "execution_count": 24,
   "metadata": {
    "id": "p94wdIT6bArY"
   },
   "outputs": [],
   "source": [
    "def piv_low(data,temp):\n",
    "    count=0\n",
    "    sum=0\n",
    "    for i in range(temp-1,temp):\n",
    "        sum=sum+data[i][2]\n",
    "        count=count+1\n",
    "    avg=sum/count\n",
    "    return avg\n"
   ]
  },
  {
   "cell_type": "code",
   "execution_count": 25,
   "metadata": {
    "id": "AtheYHMabArZ"
   },
   "outputs": [],
   "source": [
    "file=open('suggest.txt','w')\n",
    "file.close()"
   ]
  },
  {
   "cell_type": "code",
   "execution_count": 26,
   "metadata": {
    "colab": {
     "base_uri": "https://localhost:8080/"
    },
    "id": "7NmPxSJObArZ",
    "outputId": "241549f1-8344-481d-92c7-c1931e9689ac"
   },
   "outputs": [
    {
     "data": {
      "text/plain": [
       "1828"
      ]
     },
     "execution_count": 26,
     "metadata": {},
     "output_type": "execute_result"
    }
   ],
   "source": [
    "len(symbol)"
   ]
  },
  {
   "cell_type": "code",
   "execution_count": null,
   "metadata": {
    "colab": {
     "base_uri": "https://localhost:8080/"
    },
    "id": "s8pgTaUebArZ",
    "outputId": "4ced2888-c289-468b-c611-04e6ec3aa0ef"
   },
   "outputs": [
    {
     "name": "stdout",
     "output_type": "stream",
     "text": [
      "Index= 720\n",
      "[*********************100%***********************]  1 of 1 completed\n",
      "\n",
      "1 Failed download:\n",
      "- IMFA: No timezone found, symbol may be delisted\n",
      "[*********************100%***********************]  1 of 1 completed\n",
      "[*********************100%***********************]  1 of 1 completed\n",
      "                       Date        Open        High         Low       Close  \\\n",
      "0 2024-01-31 00:00:00+05:30  594.900024  687.650024  594.900024  657.400024   \n",
      "1 2024-02-01 00:00:00+05:30  661.700012  661.700012  636.200012  649.250000   \n",
      "\n",
      "    Adj Close   Volume  \n",
      "0  644.022827  2967187  \n",
      "1  636.038635   521820  \n",
      "\n",
      "\n",
      "check= 0\n",
      "i= 720\n",
      "check= 0\n",
      "Index= 721\n",
      "[*********************100%***********************]  1 of 1 completed\n",
      "\n",
      "1 Failed download:\n",
      "- IMPAL: No timezone found, symbol may be delisted\n",
      "[*********************100%***********************]  1 of 1 completed\n",
      "[*********************100%***********************]  1 of 1 completed\n",
      "                       Date         Open         High     Low        Close  \\\n",
      "0 2024-01-31 00:00:00+05:30  1146.000000  1147.500000  1088.0  1094.750000   \n",
      "1 2024-02-01 00:00:00+05:30  1111.300049  1125.949951  1086.0  1093.050049   \n",
      "\n",
      "     Adj Close  Volume  \n",
      "0  1086.296265    5766  \n",
      "1  1084.609497    3764  \n",
      "\n",
      "\n",
      "check= 0\n",
      "i= 721\n",
      "check= 0\n",
      "Index= 722\n",
      "[*********************100%***********************]  1 of 1 completed\n",
      "\n",
      "1 Failed download:\n",
      "- IMPEXFERRO: No timezone found, symbol may be delisted\n",
      "[*********************100%***********************]  1 of 1 completed\n",
      "[*********************100%***********************]  1 of 1 completed\n",
      "                       Date  Open  High   Low  Close  Adj Close  Volume\n",
      "0 2024-01-31 00:00:00+05:30  4.75  5.15  4.70   5.15       5.15  315061\n",
      "1 2024-02-01 00:00:00+05:30  5.40  5.40  5.15   5.40       5.40  130810\n",
      "\n",
      "\n",
      "check= 0\n",
      "i= 722\n",
      "check= 0\n",
      "Index= 723\n",
      "[*********************100%***********************]  1 of 1 completed\n",
      "\n",
      "1 Failed download:\n",
      "- INCREDIBLE: No timezone found, symbol may be delisted\n",
      "[*********************100%***********************]  1 of 1 completed\n",
      "[*********************100%***********************]  1 of 1 completed\n",
      "                       Date       Open       High    Low      Close  \\\n",
      "0 2024-01-31 00:00:00+05:30  46.000000  46.000000  45.75  46.000000   \n",
      "1 2024-02-01 00:00:00+05:30  46.900002  46.900002  46.00  46.900002   \n",
      "\n",
      "   Adj Close  Volume  \n",
      "0  46.000000   26603  \n",
      "1  46.900002   20101  \n",
      "\n",
      "\n",
      "check= 0\n",
      "i= 723\n",
      "check= 0\n",
      "Index= 724\n",
      "[*********************100%***********************]  1 of 1 completed\n",
      "\n",
      "1 Failed download:\n",
      "- INDBANK: No timezone found, symbol may be delisted\n",
      "[*********************100%***********************]  1 of 1 completed\n",
      "[*********************100%***********************]  1 of 1 completed\n",
      "                       Date       Open       High        Low      Close  \\\n",
      "0 2024-01-31 00:00:00+05:30  50.450001  52.400002  49.000000  49.450001   \n",
      "1 2024-02-01 00:00:00+05:30  49.450001  51.599998  47.599998  51.049999   \n",
      "\n",
      "   Adj Close   Volume  \n",
      "0  49.450001  1040257  \n",
      "1  51.049999  1341015  \n",
      "\n",
      "\n",
      "check= 0\n",
      "i= 724\n",
      "check= 0\n",
      "Index= 725\n",
      "[*********************100%***********************]  1 of 1 completed\n",
      "\n",
      "1 Failed download:\n",
      "- INDHOTEL: No timezone found, symbol may be delisted\n",
      "[*********************100%***********************]  1 of 1 completed\n",
      "[*********************100%***********************]  1 of 1 completed\n",
      "                       Date        Open        High         Low       Close  \\\n",
      "0 2024-01-31 00:00:00+05:30  495.850006  496.200012  488.000000  492.649994   \n",
      "1 2024-02-01 00:00:00+05:30  495.450012  496.500000  486.950012  494.549988   \n",
      "\n",
      "    Adj Close   Volume  \n",
      "0  492.649994  2911432  \n",
      "1  494.549988  1703943  \n",
      "\n",
      "\n",
      "check= 0\n",
      "i= 725\n",
      "check= 0\n",
      "Index= 726\n",
      "[*********************100%***********************]  1 of 1 completed\n",
      "\n",
      "1 Failed download:\n",
      "- INDIACEM: No timezone found, symbol may be delisted\n",
      "[*********************100%***********************]  1 of 1 completed\n",
      "[*********************100%***********************]  1 of 1 completed\n",
      "                       Date        Open        High         Low       Close  \\\n",
      "0 2024-01-31 00:00:00+05:30  261.399994  265.399994  258.299988  261.399994   \n",
      "1 2024-02-01 00:00:00+05:30  263.899994  265.000000  236.699997  242.199997   \n",
      "\n",
      "    Adj Close    Volume  \n",
      "0  261.399994   3077440  \n",
      "1  242.199997  38109480  \n",
      "\n",
      "\n",
      "check= 1\n",
      "i= 726\n",
      "check= 1\n",
      "Company name= The India Cements Limited\n",
      "Suggestion=Buy stock\n",
      "Index= 727\n",
      "[*********************100%***********************]  1 of 1 completed\n",
      "\n",
      "1 Failed download:\n",
      "- INDIAGLYCO: No timezone found, symbol may be delisted\n",
      "[*********************100%***********************]  1 of 1 completed\n",
      "[*********************100%***********************]  1 of 1 completed\n",
      "                       Date   Open        High         Low       Close  \\\n",
      "0 2024-01-31 00:00:00+05:30  902.0  917.799988  896.799988  908.150024   \n",
      "1 2024-02-01 00:00:00+05:30  915.0  928.700012  896.299988  905.250000   \n",
      "\n",
      "    Adj Close  Volume  \n",
      "0  908.150024  101599  \n",
      "1  905.250000  162505  \n",
      "\n",
      "\n",
      "check= 0\n",
      "i= 727\n",
      "check= 0\n",
      "Index= 728\n",
      "[*********************100%***********************]  1 of 1 completed\n",
      "\n",
      "1 Failed download:\n",
      "- INDIAMART: No timezone found, symbol may be delisted\n",
      "[*********************100%***********************]  1 of 1 completed\n",
      "[*********************100%***********************]  1 of 1 completed\n",
      "                       Date    Open         High          Low        Close  \\\n",
      "0 2024-01-31 00:00:00+05:30  2500.0  2528.949951  2461.449951  2521.350098   \n",
      "1 2024-02-01 00:00:00+05:30  2500.0  2565.000000  2495.100098  2559.800049   \n",
      "\n",
      "     Adj Close  Volume  \n",
      "0  2521.350098  222003  \n",
      "1  2559.800049  131131  \n",
      "\n",
      "\n",
      "check= 0\n",
      "i= 728\n",
      "check= 0\n",
      "Index= 729\n",
      "[*********************100%***********************]  1 of 1 completed\n",
      "\n",
      "1 Failed download:\n",
      "- INDIANB: No timezone found, symbol may be delisted\n",
      "[*********************100%***********************]  1 of 1 completed\n",
      "[*********************100%***********************]  1 of 1 completed\n",
      "                       Date        Open   High         Low       Close  \\\n",
      "0 2024-01-31 00:00:00+05:30  495.200012  507.0  489.049988  498.850006   \n",
      "1 2024-02-01 00:00:00+05:30  498.850006  530.0  494.000000  523.950012   \n",
      "\n",
      "    Adj Close   Volume  \n",
      "0  498.850006  3871355  \n",
      "1  523.950012  5616874  \n",
      "\n",
      "\n",
      "check= 0\n",
      "i= 729\n",
      "check= 0\n",
      "Index= 730\n",
      "[*********************100%***********************]  1 of 1 completed\n",
      "\n",
      "1 Failed download:\n",
      "- INDIANCARD: No timezone found, symbol may be delisted\n",
      "[*********************100%***********************]  1 of 1 completed\n",
      "[*********************100%***********************]  1 of 1 completed\n",
      "                       Date        Open        High         Low       Close  \\\n",
      "0 2024-01-31 00:00:00+05:30  318.799988  322.450012  315.049988  317.950012   \n",
      "1 2024-02-01 00:00:00+05:30  317.950012  324.399994  315.000000  315.750000   \n",
      "\n",
      "    Adj Close  Volume  \n",
      "0  317.950012   10459  \n",
      "1  315.750000   11797  \n",
      "\n",
      "\n",
      "check= 0\n",
      "i= 730\n",
      "check= 0\n",
      "Index= 731\n",
      "[*********************100%***********************]  1 of 1 completed\n",
      "\n",
      "1 Failed download:\n",
      "- INDIANHUME: No timezone found, symbol may be delisted\n",
      "[*********************100%***********************]  1 of 1 completed\n",
      "[*********************100%***********************]  1 of 1 completed\n",
      "                       Date        Open        High         Low       Close  \\\n",
      "0 2024-01-31 00:00:00+05:30  244.800003  249.000000  244.699997  246.500000   \n",
      "1 2024-02-01 00:00:00+05:30  248.399994  249.050003  243.100006  246.100006   \n",
      "\n",
      "    Adj Close  Volume  \n",
      "0  246.500000   38878  \n",
      "1  246.100006   37017  \n",
      "\n",
      "\n",
      "check= 0\n",
      "i= 731\n",
      "check= 0\n",
      "Index= 732\n",
      "[*********************100%***********************]  1 of 1 completed\n",
      "\n",
      "1 Failed download:\n",
      "- INDIGO: No timezone found, symbol may be delisted\n",
      "[*********************100%***********************]  1 of 1 completed\n",
      "[*********************100%***********************]  1 of 1 completed\n",
      "                       Date    Open         High          Low        Close  \\\n",
      "0 2024-01-31 00:00:00+05:30  2940.0  2969.949951  2912.000000  2961.350098   \n",
      "1 2024-02-01 00:00:00+05:30  2982.0  3081.899902  2972.100098  3066.600098   \n",
      "\n",
      "     Adj Close   Volume  \n",
      "0  2961.350098  1571722  \n",
      "1  3066.600098  1610034  \n",
      "\n",
      "\n",
      "check= 0\n",
      "i= 732\n",
      "check= 0\n",
      "Index= 733\n",
      "[*********************100%***********************]  1 of 1 completed\n",
      "\n",
      "1 Failed download:\n",
      "- INDIGOPNTS: No timezone found, symbol may be delisted\n"
     ]
    },
    {
     "name": "stdout",
     "output_type": "stream",
     "text": [
      "[*********************100%***********************]  1 of 1 completed\n",
      "[*********************100%***********************]  1 of 1 completed\n",
      "                       Date         Open         High     Low        Close  \\\n",
      "0 2024-01-31 00:00:00+05:30  1446.000000  1453.150024  1430.0  1443.449951   \n",
      "1 2024-02-01 00:00:00+05:30  1449.949951  1460.000000  1418.0  1421.599976   \n",
      "\n",
      "     Adj Close  Volume  \n",
      "0  1443.449951   37688  \n",
      "1  1421.599976   45712  \n",
      "\n",
      "\n",
      "check= 0\n",
      "i= 733\n",
      "check= 0\n",
      "Index= 734\n",
      "[*********************100%***********************]  1 of 1 completed\n",
      "\n",
      "1 Failed download:\n",
      "- INDLMETER: No timezone found, symbol may be delisted\n",
      "[*********************100%***********************]  1 of 1 completed\n",
      "[*********************100%***********************]  1 of 1 completed\n",
      "                       Date  Open  High  Low  Close  Adj Close  Volume\n",
      "0 2024-01-31 00:00:00+05:30   5.6   5.6  5.6    5.6        5.6       0\n",
      "1 2024-02-01 00:00:00+05:30   5.6   5.6  5.6    5.6        5.6       0\n",
      "\n",
      "\n",
      "check= 0\n",
      "i= 734\n",
      "check= 0\n",
      "Index= 735\n",
      "[*********************100%***********************]  1 of 1 completed\n",
      "\n",
      "1 Failed download:\n",
      "- INDNIPPON: No timezone found, symbol may be delisted\n",
      "[*********************100%***********************]  1 of 1 completed\n",
      "[*********************100%***********************]  1 of 1 completed\n",
      "                       Date   Open   High         Low       Close   Adj Close  \\\n",
      "0 2024-01-31 00:00:00+05:30  717.5  717.5  680.000000  695.950012  686.813904   \n",
      "1 2024-02-01 00:00:00+05:30  700.0  700.0  676.099976  693.950012  684.840149   \n",
      "\n",
      "   Volume  \n",
      "0   44209  \n",
      "1   39518  \n",
      "\n",
      "\n",
      "check= 0\n",
      "i= 735\n",
      "check= 0\n",
      "Index= 736\n",
      "[*********************100%***********************]  1 of 1 completed\n",
      "\n",
      "1 Failed download:\n",
      "- INDOAMIN: No timezone found, symbol may be delisted\n",
      "[*********************100%***********************]  1 of 1 completed\n",
      "[*********************100%***********************]  1 of 1 completed\n",
      "                       Date    Open    High         Low       Close  \\\n",
      "0 2024-01-31 00:00:00+05:30  171.00  180.00  170.199997  178.350006   \n",
      "1 2024-02-01 00:00:00+05:30  180.25  180.25  172.000000  173.250000   \n",
      "\n",
      "    Adj Close  Volume  \n",
      "0  178.350006  371484  \n",
      "1  173.250000  349292  \n",
      "\n",
      "\n",
      "check= 1\n",
      "i= 736\n",
      "check= 1\n",
      "Company name= Indo Amines Limited\n",
      "Suggestion=Buy stock\n",
      "Index= 737\n",
      "[*********************100%***********************]  1 of 1 completed\n",
      "\n",
      "1 Failed download:\n",
      "- INDOBORAX: No timezone found, symbol may be delisted\n",
      "[*********************100%***********************]  1 of 1 completed\n",
      "[*********************100%***********************]  1 of 1 completed\n",
      "                       Date        Open        High         Low       Close  \\\n",
      "0 2024-01-31 00:00:00+05:30  204.800003  205.149994  202.000000  203.850006   \n",
      "1 2024-02-01 00:00:00+05:30  203.699997  205.350006  197.199997  199.699997   \n",
      "\n",
      "    Adj Close  Volume  \n",
      "0  203.850006   40348  \n",
      "1  199.699997   87634  \n",
      "\n",
      "\n",
      "check= 0\n",
      "i= 737\n",
      "check= 0\n",
      "Index= 738\n",
      "[*********************100%***********************]  1 of 1 completed\n",
      "\n",
      "1 Failed download:\n",
      "- INDOCO: No timezone found, symbol may be delisted\n",
      "[*********************100%***********************]  1 of 1 completed\n",
      "[*********************100%***********************]  1 of 1 completed\n",
      "                       Date        Open        High         Low       Close  \\\n",
      "0 2024-01-31 00:00:00+05:30  367.549988  381.399994  366.200012  372.299988   \n",
      "1 2024-02-01 00:00:00+05:30  372.200012  374.549988  367.250000  369.299988   \n",
      "\n",
      "    Adj Close  Volume  \n",
      "0  372.299988  261424  \n",
      "1  369.299988   58269  \n",
      "\n",
      "\n",
      "check= 0\n",
      "i= 738\n",
      "check= 0\n",
      "Index= 739\n",
      "[*********************100%***********************]  1 of 1 completed\n",
      "\n",
      "1 Failed download:\n",
      "- INDORAMA: No timezone found, symbol may be delisted\n",
      "[*********************100%***********************]  1 of 1 completed\n",
      "[*********************100%***********************]  1 of 1 completed\n",
      "                       Date   Open       High        Low      Close  \\\n",
      "0 2024-01-31 00:00:00+05:30  64.50  67.099998  64.000000  64.650002   \n",
      "1 2024-02-01 00:00:00+05:30  65.75  65.949997  63.049999  63.950001   \n",
      "\n",
      "   Adj Close   Volume  \n",
      "0  64.650002  2879667  \n",
      "1  63.950001   822467  \n",
      "\n",
      "\n",
      "check= 0\n",
      "i= 739\n",
      "check= 0\n",
      "Index= 740\n",
      "[*********************100%***********************]  1 of 1 completed\n",
      "\n",
      "1 Failed download:\n",
      "- INDOSTAR: No timezone found, symbol may be delisted\n",
      "[*********************100%***********************]  1 of 1 completed\n",
      "[*********************100%***********************]  1 of 1 completed\n",
      "                       Date        Open        High         Low       Close  \\\n",
      "0 2024-01-31 00:00:00+05:30  190.050003  200.899994  188.000000  198.800003   \n",
      "1 2024-02-01 00:00:00+05:30  198.399994  198.550003  189.100006  191.949997   \n",
      "\n",
      "    Adj Close  Volume  \n",
      "0  198.800003  209249  \n",
      "1  191.949997  119650  \n",
      "\n",
      "\n",
      "check= 0\n",
      "i= 740\n",
      "check= 0\n",
      "Index= 741\n",
      "[*********************100%***********************]  1 of 1 completed\n",
      "\n",
      "1 Failed download:\n",
      "- INDOTECH: No timezone found, symbol may be delisted\n",
      "[*********************100%***********************]  1 of 1 completed\n",
      "[*********************100%***********************]  1 of 1 completed\n",
      "                       Date   Open    High         Low       Close  \\\n",
      "0 2024-01-31 00:00:00+05:30  898.5  930.00  898.500000  918.349976   \n",
      "1 2024-02-01 00:00:00+05:30  928.0  964.25  927.650024  951.099976   \n",
      "\n",
      "    Adj Close  Volume  \n",
      "0  918.349976   21660  \n",
      "1  951.099976   43162  \n",
      "\n",
      "\n",
      "check= 0\n",
      "i= 741\n",
      "check= 0\n",
      "Index= 742\n",
      "[*********************100%***********************]  1 of 1 completed\n",
      "\n",
      "1 Failed download:\n",
      "- INDOTHAI: No timezone found, symbol may be delisted\n",
      "[*********************100%***********************]  1 of 1 completed\n",
      "[*********************100%***********************]  1 of 1 completed\n",
      "                       Date   Open   High         Low       Close   Adj Close  \\\n",
      "0 2024-01-31 00:00:00+05:30  314.0  316.0  300.049988  308.850006  307.948120   \n",
      "1 2024-02-01 00:00:00+05:30  300.0  315.0  300.000000  313.399994  312.484833   \n",
      "\n",
      "   Volume  \n",
      "0    7167  \n",
      "1   13871  \n",
      "\n",
      "\n",
      "check= 0\n",
      "i= 742\n",
      "check= 0\n",
      "Index= 743\n",
      "[*********************100%***********************]  1 of 1 completed\n",
      "\n",
      "1 Failed download:\n",
      "- INDOWIND: No timezone found, symbol may be delisted\n",
      "[*********************100%***********************]  1 of 1 completed\n",
      "[*********************100%***********************]  1 of 1 completed\n",
      "                       Date       Open       High        Low      Close  \\\n",
      "0 2024-01-31 00:00:00+05:30  33.200001  33.200001  33.200001  33.200001   \n",
      "1 2024-02-01 00:00:00+05:30  32.549999  32.549999  32.549999  32.549999   \n",
      "\n",
      "   Adj Close  Volume  \n",
      "0  33.200001  272233  \n",
      "1  32.549999  418445  \n",
      "\n",
      "\n",
      "check= 0\n",
      "i= 743\n",
      "check= 0\n",
      "Index= 744\n",
      "[*********************100%***********************]  1 of 1 completed\n",
      "\n",
      "1 Failed download:\n",
      "- INDRAMEDCO: No timezone found, symbol may be delisted\n",
      "[*********************100%***********************]  1 of 1 completed\n",
      "[*********************100%***********************]  1 of 1 completed\n",
      "                       Date        Open        High         Low       Close  \\\n",
      "0 2024-01-31 00:00:00+05:30  183.000000  190.000000  181.149994  188.800003   \n",
      "1 2024-02-01 00:00:00+05:30  191.800003  191.800003  182.699997  186.149994   \n",
      "\n",
      "    Adj Close  Volume  \n",
      "0  188.800003  189201  \n",
      "1  186.149994   93202  \n",
      "\n",
      "\n",
      "check= 0\n",
      "i= 744\n",
      "check= 0\n",
      "Index= 745\n",
      "[*********************100%***********************]  1 of 1 completed\n",
      "\n",
      "1 Failed download:\n",
      "- INDSWFTLAB: No timezone found, symbol may be delisted\n",
      "[*********************100%***********************]  1 of 1 completed\n",
      "[*********************100%***********************]  1 of 1 completed\n",
      "                       Date        Open        High         Low       Close  \\\n",
      "0 2024-01-31 00:00:00+05:30  108.750000  111.400002  107.400002  109.949997   \n",
      "1 2024-02-01 00:00:00+05:30  110.550003  111.000000  105.599998  107.000000   \n",
      "\n",
      "    Adj Close  Volume  \n",
      "0  109.949997  245042  \n",
      "1  107.000000  176598  \n",
      "\n",
      "\n",
      "check= 0\n",
      "i= 745\n",
      "check= 0\n",
      "Index= 746\n",
      "[*********************100%***********************]  1 of 1 completed\n",
      "\n",
      "1 Failed download:\n",
      "- INDSWFTLTD: No timezone found, symbol may be delisted\n",
      "[*********************100%***********************]  1 of 1 completed\n",
      "[*********************100%***********************]  1 of 1 completed\n",
      "                       Date   Open   High        Low      Close  Adj Close  \\\n",
      "0 2024-01-31 00:00:00+05:30  18.50  18.60  17.850000  18.049999  18.049999   \n",
      "1 2024-02-01 00:00:00+05:30  18.85  18.85  18.049999  18.100000  18.100000   \n",
      "\n",
      "   Volume  \n",
      "0   34382  \n",
      "1   44625  \n",
      "\n",
      "\n",
      "check= -1\n",
      "i= 746\n",
      "check= -1\n",
      "Company name= Ind-Swift Limited\n",
      "Suggestion=Sell stock\n",
      "Index= 747\n"
     ]
    },
    {
     "name": "stdout",
     "output_type": "stream",
     "text": [
      "[*********************100%***********************]  1 of 1 completed\n",
      "\n",
      "1 Failed download:\n",
      "- INDTERRAIN: No timezone found, symbol may be delisted\n",
      "[*********************100%***********************]  1 of 1 completed\n",
      "[*********************100%***********************]  1 of 1 completed\n",
      "                       Date       Open       High        Low      Close  \\\n",
      "0 2024-01-31 00:00:00+05:30  75.900002  76.699997  74.550003  74.949997   \n",
      "1 2024-02-01 00:00:00+05:30  75.500000  75.500000  73.349998  73.599998   \n",
      "\n",
      "   Adj Close  Volume  \n",
      "0  74.949997  204865  \n",
      "1  73.599998  161563  \n",
      "\n",
      "\n",
      "check= 0\n",
      "i= 747\n",
      "check= 0\n",
      "Index= 748\n",
      "[*********************100%***********************]  1 of 1 completed\n",
      "\n",
      "1 Failed download:\n",
      "- INDUSINDBK: No timezone found, symbol may be delisted\n",
      "[*********************100%***********************]  1 of 1 completed\n",
      "[*********************100%***********************]  1 of 1 completed\n",
      "                       Date         Open         High          Low  \\\n",
      "0 2024-01-31 00:00:00+05:30  1519.199951  1548.000000  1507.150024   \n",
      "1 2024-02-01 00:00:00+05:30  1537.750000  1547.550049  1523.550049   \n",
      "\n",
      "         Close    Adj Close   Volume  \n",
      "0  1534.050049  1534.050049  3867886  \n",
      "1  1541.150024  1541.150024  2240634  \n",
      "\n",
      "\n",
      "check= 0\n",
      "i= 748\n",
      "check= 0\n",
      "Index= 749\n",
      "[*********************100%***********************]  1 of 1 completed\n",
      "\n",
      "1 Failed download:\n",
      "- INDUSTOWER: No timezone found, symbol may be delisted\n",
      "[*********************100%***********************]  1 of 1 completed\n",
      "[*********************100%***********************]  1 of 1 completed\n",
      "                       Date        Open        High         Low       Close  \\\n",
      "0 2024-01-31 00:00:00+05:30  230.100006  230.750000  220.699997  221.949997   \n",
      "1 2024-02-01 00:00:00+05:30  215.000000  223.449997  210.800003  219.000000   \n",
      "\n",
      "    Adj Close     Volume  \n",
      "0  221.949997   13074866  \n",
      "1  219.000000  179433641  \n",
      "\n",
      "\n",
      "check= 0\n",
      "i= 749\n",
      "check= 0\n",
      "Index= 750\n",
      "[*********************100%***********************]  1 of 1 completed\n",
      "\n",
      "1 Failed download:\n",
      "- INEOSSTYRO: No timezone found, symbol may be delisted\n",
      "[*********************100%***********************]  1 of 1 completed\n",
      "\n",
      "1 Failed download:\n",
      "- INEOSSTYRO.NS: No data found, symbol may be delisted\n",
      "[*********************100%***********************]  1 of 1 completed\n",
      "\n",
      "1 Failed download:\n",
      "- INEOSSTYRO.BO: No timezone found, symbol may be delisted\n",
      "Index= 751\n",
      "[*********************100%***********************]  1 of 1 completed\n",
      "\n",
      "1 Failed download:\n",
      "- INFIBEAM: No timezone found, symbol may be delisted\n",
      "[*********************100%***********************]  1 of 1 completed\n",
      "[*********************100%***********************]  1 of 1 completed\n",
      "                       Date       Open  High        Low      Close  Adj Close  \\\n",
      "0 2024-01-31 00:00:00+05:30  34.500000  36.5  33.650002  35.099998  35.099998   \n",
      "1 2024-02-01 00:00:00+05:30  36.799999  40.0  36.750000  37.799999  37.799999   \n",
      "\n",
      "      Volume  \n",
      "0   97486045  \n",
      "1  224433974  \n",
      "\n",
      "\n",
      "check= 0\n",
      "i= 751\n",
      "check= 0\n",
      "Index= 752\n",
      "[*********************100%***********************]  1 of 1 completed\n",
      "\n",
      "1 Failed download:\n",
      "- INFOBEAN: No timezone found, symbol may be delisted\n",
      "[*********************100%***********************]  1 of 1 completed\n",
      "[*********************100%***********************]  1 of 1 completed\n",
      "                       Date        Open        High         Low   Close  \\\n",
      "0 2024-01-31 00:00:00+05:30  418.299988  421.549988  415.000000  418.50   \n",
      "1 2024-02-01 00:00:00+05:30  421.000000  426.000000  414.700012  418.25   \n",
      "\n",
      "   Adj Close  Volume  \n",
      "0     418.50   26178  \n",
      "1     418.25   25328  \n",
      "\n",
      "\n",
      "check= 0\n",
      "i= 752\n",
      "check= 0\n",
      "Index= 753\n",
      "[*********************100%***********************]  1 of 1 completed\n",
      "\n",
      "1 Failed download:\n",
      "- INFOMEDIA: No timezone found, symbol may be delisted\n",
      "[*********************100%***********************]  1 of 1 completed\n",
      "[*********************100%***********************]  1 of 1 completed\n",
      "                       Date  Open  High  Low  Close  Adj Close  Volume\n",
      "0 2024-01-31 00:00:00+05:30  6.45   6.8  6.3   6.80       6.80   14189\n",
      "1 2024-02-01 00:00:00+05:30  6.80   7.1  6.5   6.95       6.95    3490\n",
      "\n",
      "\n",
      "check= -1\n",
      "i= 753\n",
      "check= -1\n",
      "Company name= Infomedia Press Limited\n",
      "Suggestion=Sell stock\n",
      "Index= 754\n",
      "[*********************100%***********************]  1 of 1 completed\n",
      "[*********************100%***********************]  1 of 1 completed\n"
     ]
    }
   ],
   "source": [
    "\n",
    "file=open('suggest.txt','w')\n",
    "i=720\n",
    "result=[]\n",
    "while(i<1200):\n",
    "    try:\n",
    "        print(\"Index=\",i)\n",
    "        string=symbol[i][0]\n",
    "        df=get_symbol(string,y,x)\n",
    "        df=df.reset_index()\n",
    "        print(df.head(2))\n",
    "        print(\"\\n\")\n",
    "        data=np.array(df)\n",
    "        temp=(df.shape)[0]-1\n",
    "        if(temp<4):\n",
    "            i=i+1\n",
    "            continue\n",
    "        check=check_pattern(data,temp-1)\n",
    "        print(\"check=\",check)\n",
    "        print(\"i=\",i)\n",
    "        print(\"check=\",check)\n",
    "        if(check>0):\n",
    "            file.write(\"Company name=\")\n",
    "            file.write(symbol[i][1])\n",
    "            file.write(\"\\n\")\n",
    "            file.write(\"Suggestion=Buy stock\\n\")\n",
    "            # file.write(\"Entry price=\")\n",
    "            # avg=data[temp-1][1]\n",
    "            # avg=avg+(avg*0.005)\n",
    "            # file.write(str(round(avg,2)))\n",
    "            # high=piv_high(data,temp-1)\n",
    "            # low=piv_low(data,temp-1)\n",
    "            # close=piv_close(data,temp-1)\n",
    "\n",
    "            # pp=(high+low+close)/3\n",
    "            # rr1=(2*pp)-low\n",
    "            # target1=rr1\n",
    "            # rr2=pp+(high-low)\n",
    "            # target2=rr2\n",
    "            # file.write(\"\\nTarget price 1=\")\n",
    "            # file.write(str(round(target1,2)))\n",
    "            # file.write(\"\\nTarget price 1=\")\n",
    "            # file.write(str(round(target2,2)))\n",
    "\n",
    "            # file.write(\"\\nStop loss=\")\n",
    "            # stop_loss=data[temp-1][2]\n",
    "            # stop_loss=stop_loss-(stop_loss*0.002)\n",
    "            # file.write(str(round(stop_loss,2)))\n",
    "            file.write(\"\\n\\n\")\n",
    "\n",
    "            print(\"Company name=\",symbol[i][1])\n",
    "            print(\"Suggestion=Buy stock\")\n",
    "            # print(\"Entry price=\",avg)\n",
    "            # print(\"Target price1=\",target1)\n",
    "            # print(\"Target price2=\",target2)\n",
    "            # print(\"Stop loss\",stop_loss)\n",
    "\n",
    "            if(data[temp-1][4]<data[temp][4]):\n",
    "                result.append([symbol[i][1],data[temp-1][0],'bullish','bullish'])\n",
    "            else:\n",
    "                result.append([symbol[i][1],data[temp-1][0],'bullish','bearish'])\n",
    "            i=i+1\n",
    "        elif check<0:\n",
    "            file.write(\"Company name=\")\n",
    "            file.write(symbol[i][1])\n",
    "            file.write(\"\\n\")\n",
    "            file.write(\"Suggestion=Sell stock\\n\")\n",
    "            # file.write(\"Entry price=\")\n",
    "            # avg=data[temp-1][1]\n",
    "            # avg=avg+(avg*0.005)\n",
    "            # file.write(str(round(avg,2)))\n",
    "            # high=piv_high(data,temp-1)\n",
    "            # low=piv_low(data,temp-1)\n",
    "            # close=piv_close(data,temp-1)\n",
    "\n",
    "            # pp=(high+low+close)/3\n",
    "            # rr1=(2*pp)-low\n",
    "            # target1=rr1\n",
    "            # rr2=pp+(high-low)\n",
    "            # target2=rr2\n",
    "            # file.write(\"\\nTarget price 1=\")\n",
    "            # file.write(str(round(target1,2)))\n",
    "            # file.write(\"\\nTarget price 2=\")\n",
    "            # file.write(str(round(target2,2)))\n",
    "\n",
    "            # file.write(\"\\nStop loss=\")\n",
    "            # stop_loss=data[temp-1][2]\n",
    "            # stop_loss=stop_loss-(stop_loss*0.002)\n",
    "            # file.write(str(round(stop_loss,2)))\n",
    "            file.write(\"\\n\\n\")\n",
    "\n",
    "            print(\"Company name=\",symbol[i][1])\n",
    "            print(\"Suggestion=Sell stock\")\n",
    "            # print(\"Target price1=\",target1)\n",
    "            # print(\"Target price2=\",target2)\n",
    "            # print(\"Stop loss\",stop_loss)\n",
    "\n",
    "            if(data[temp-1][4]<data[temp][4]):\n",
    "                result.append([symbol[i][1],data[temp-1][0],'bearish','bullish'])\n",
    "            else:\n",
    "                result.append([symbol[i][1],data[temp-1][0],'bearish','bearish'])\n",
    "            i=i+1\n",
    "        else:\n",
    "            i=i+1\n",
    "    except:\n",
    "\n",
    "\n",
    "\n",
    "        i=i+1\n",
    "file.close()\n"
   ]
  },
  {
   "cell_type": "code",
   "execution_count": null,
   "metadata": {
    "colab": {
     "base_uri": "https://localhost:8080/"
    },
    "id": "kwQlSIi4Wgy-",
    "outputId": "2436664d-d3db-4988-8b99-959b5cf66234"
   },
   "outputs": [],
   "source": [
    "result"
   ]
  },
  {
   "cell_type": "code",
   "execution_count": null,
   "metadata": {
    "id": "mvdSSxmYbAra"
   },
   "outputs": [],
   "source": [
    "res_df=pd.DataFrame(result,columns=['Date','Company Name','Prediction','Actual'])"
   ]
  },
  {
   "cell_type": "code",
   "execution_count": null,
   "metadata": {
    "id": "3_lQ8F2GbAra"
   },
   "outputs": [],
   "source": [
    "res_df.to_csv('prediction_res.csv')"
   ]
  },
  {
   "cell_type": "code",
   "execution_count": null,
   "metadata": {
    "id": "-eMDSY5wbArb"
   },
   "outputs": [],
   "source": [
    "count=0\n",
    "b=0\n",
    "for i in range(len(result)):\n",
    "    if(result[i][2]==result[i][3] and result[i][2]=='bullish'):\n",
    "        count=count+1\n",
    "    elif(result[i][2]==result[i][3] and result[i][2]=='bearish'):\n",
    "        b=b+1"
   ]
  },
  {
   "cell_type": "code",
   "execution_count": null,
   "metadata": {
    "id": "o8k_uMlnbArb"
   },
   "outputs": [],
   "source": [
    "acq=(count+b)/len(result)"
   ]
  },
  {
   "cell_type": "code",
   "execution_count": null,
   "metadata": {
    "colab": {
     "base_uri": "https://localhost:8080/"
    },
    "id": "nuuqjlm2bArb",
    "outputId": "cdc544b3-cdec-4246-be9b-df33ffa8fb8a"
   },
   "outputs": [],
   "source": [
    "print(\"The accuraccy is=\",round(acq,2))"
   ]
  },
  {
   "cell_type": "code",
   "execution_count": null,
   "metadata": {
    "id": "Uffv4p0ngt74"
   },
   "outputs": [],
   "source": [
    "arr = res_df.to_numpy()"
   ]
  },
  {
   "cell_type": "code",
   "execution_count": null,
   "metadata": {
    "id": "gOWAXoK-hJZm"
   },
   "outputs": [],
   "source": [
    "actual=[]\n",
    "predicted=[]\n",
    "for i in range (len(arr)):\n",
    "  actual.append(arr[i][2])\n",
    "  predicted.append(arr[i][3])"
   ]
  },
  {
   "cell_type": "code",
   "execution_count": null,
   "metadata": {
    "colab": {
     "base_uri": "https://localhost:8080/",
     "height": 449
    },
    "id": "IXwDX4LfgfAq",
    "outputId": "c47bf56f-eb13-4520-8f2a-bf5d20c2476f"
   },
   "outputs": [],
   "source": [
    "from sklearn import metrics\n",
    "confusion_matrix = metrics.confusion_matrix(actual, predicted)\n",
    "cm_display = metrics.ConfusionMatrixDisplay(confusion_matrix = confusion_matrix, display_labels = ['Bearish', 'Bullsih'])\n",
    "import matplotlib.pyplot as plt\n",
    "cm_display.plot()\n",
    "plt.show()"
   ]
  },
  {
   "cell_type": "code",
   "execution_count": null,
   "metadata": {
    "id": "SxhpwUhLbArb"
   },
   "outputs": [],
   "source": []
  }
 ],
 "metadata": {
  "colab": {
   "provenance": []
  },
  "kernelspec": {
   "display_name": "Python 3",
   "language": "python",
   "name": "python3"
  },
  "language_info": {
   "codemirror_mode": {
    "name": "ipython",
    "version": 3
   },
   "file_extension": ".py",
   "mimetype": "text/x-python",
   "name": "python",
   "nbconvert_exporter": "python",
   "pygments_lexer": "ipython3",
   "version": "3.9.7"
  },
  "vscode": {
   "interpreter": {
    "hash": "ad2bdc8ecc057115af97d19610ffacc2b4e99fae6737bb82f5d7fb13d2f2c186"
   }
  }
 },
 "nbformat": 4,
 "nbformat_minor": 1
}
